{
 "cells": [
  {
   "cell_type": "markdown",
   "id": "5ab57969-ee7a-4891-bca2-fbc0b41fb610",
   "metadata": {},
   "source": [
    "## generate flattened view for biospec database\n",
    "Only required to be run if a observable is added."
   ]
  },
  {
   "cell_type": "code",
   "execution_count": null,
   "id": "857bf22c-e702-47df-b708-54749d53b0e5",
   "metadata": {
    "tags": []
   },
   "outputs": [],
   "source": [
    "import os\n",
    "\n",
    "import pandas\n",
    "from biodb.util import to_bool\n",
    "\n",
    "os.environ.setdefault('DJANGO_SETTINGS_MODULE', \"biodb.settings\")\n",
    "os.environ[\"DJANGO_ALLOW_ASYNC_UNSAFE\"] = \"true\"\n",
    "\n",
    "import django\n",
    "from django.db import connection\n",
    "from django.db.utils import OperationalError\n",
    "\n",
    "django.setup()\n",
    "\n",
    "from uploader.sql import drop_view, execute_sql, update_view\n",
    "from uploader.models import FullPatientView, ObservationsView, VisitObservationsView"
   ]
  },
  {
   "cell_type": "code",
   "execution_count": null,
   "id": "653daf33",
   "metadata": {},
   "outputs": [],
   "source": [
    "%%time\n",
    "\n",
    "ObservationsView.update_view()"
   ]
  },
  {
   "cell_type": "code",
   "execution_count": null,
   "id": "f08096cd",
   "metadata": {},
   "outputs": [],
   "source": [
    "%%time\n",
    "\n",
    "VisitObservationsView.update_view()"
   ]
  },
  {
   "cell_type": "code",
   "execution_count": null,
   "id": "c9fa6cc0",
   "metadata": {},
   "outputs": [],
   "source": [
    "%%time\n",
    "\n",
    "FullPatientView.update_view()"
   ]
  },
  {
   "cell_type": "code",
   "execution_count": null,
   "id": "af7d1855",
   "metadata": {},
   "outputs": [],
   "source": [
    "# clean all\n",
    "FullPatientView.drop_view()\n",
    "VisitObservationsView.drop_view()\n",
    "ObservationsView.drop_view()"
   ]
  },
  {
   "cell_type": "code",
   "execution_count": null,
   "id": "4348830b",
   "metadata": {},
   "outputs": [],
   "source": [
    "len(ObservationsView.objects.all())"
   ]
  }
 ],
 "metadata": {
  "kernelspec": {
   "display_name": "Python 3 (ipykernel)",
   "language": "python",
   "name": "python3"
  },
  "language_info": {
   "codemirror_mode": {
    "name": "ipython",
    "version": 3
   },
   "file_extension": ".py",
   "mimetype": "text/x-python",
   "name": "python",
   "nbconvert_exporter": "python",
   "pygments_lexer": "ipython3",
   "version": "3.11.3"
  }
 },
 "nbformat": 4,
 "nbformat_minor": 5
}
